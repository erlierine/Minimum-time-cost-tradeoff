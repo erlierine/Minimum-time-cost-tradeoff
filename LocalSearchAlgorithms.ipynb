{
 "cells": [
  {
   "cell_type": "markdown",
   "id": "f8354b68",
   "metadata": {},
   "source": [
    "Here are represented local search algorithms: classic local search for descrete domain with gradient being Monte Carlo (random), Simulated Annealing and RVNS (Random Variable Neighborhood Search)."
   ]
  },
  {
   "cell_type": "code",
   "execution_count": 1,
   "id": "14f5b948",
   "metadata": {},
   "outputs": [],
   "source": [
    "graphName = \"graphs/testGraph.txt\"\n",
    "costsName = \"graphs/testGraphCosts.txt\""
   ]
  },
  {
   "cell_type": "code",
   "execution_count": 2,
   "id": "3b327863",
   "metadata": {},
   "outputs": [],
   "source": [
    "from collections import defaultdict\n",
    "\n",
    "# Nodes in DAG that are represented as (node, [list of ancestor])\n",
    "def getImmediateAncestors(filename):\n",
    "    with open(filename, 'r') as file:\n",
    "        nodes = defaultdict(list)\n",
    "        \n",
    "        # Dummy nodes source and super sink that are added to represent start and end of project\n",
    "        sourceNodes = set()\n",
    "        superSinkNodes = set()\n",
    "        removeFromeSource = set()\n",
    "        removeFromSuperSink = set()\n",
    "        \n",
    "        # Necessary representation for networkx to draw graph\n",
    "        GxNodes = set()\n",
    "        GxEdges = []\n",
    "            \n",
    "        for line in file:\n",
    "            # from represented direceted edges as (node ancestor) we get all ancestors\n",
    "            node, ancestor = line.split()\n",
    "            \n",
    "            GxEdges.append((node, ancestor))\n",
    "            \n",
    "            nodes[node].append(ancestor)\n",
    "            sourceNodes.add(node)\n",
    "            superSinkNodes.add(ancestor)\n",
    "            removeFromeSource.add(ancestor)\n",
    "            removeFromSuperSink.add(node)\n",
    "        \n",
    "        for node in removeFromeSource:\n",
    "            sourceNodes.discard(node)\n",
    "        for node in removeFromSuperSink:\n",
    "            superSinkNodes.discard(node)\n",
    "            \n",
    "        nodes['s'] = list(sourceNodes)\n",
    "        nodes['ss'] = [None]\n",
    "        for node in superSinkNodes:\n",
    "            nodes[node].append('ss')\n",
    "            GxEdges.append((node, 'ss'))\n",
    "        \n",
    "        for s in sourceNodes:\n",
    "            GxEdges.append(('s', s))\n",
    "        GxNodes = list(sourceNodes)\n",
    "        \n",
    "#         for node in nodes:\n",
    "#             print(node, nodes[node])\n",
    "\n",
    "        # return values are directed acyclic graph represened as dictionary with nodes and their ancestors\n",
    "        # and GxNodes, GxEdges which is needed representation of graph for drawing\n",
    "        return nodes, GxNodes, GxEdges"
   ]
  },
  {
   "cell_type": "code",
   "execution_count": 3,
   "id": "492879e3",
   "metadata": {},
   "outputs": [],
   "source": [
    "nodes, GxNodes, GxEdges = getImmediateAncestors(graphName)"
   ]
  },
  {
   "cell_type": "code",
   "execution_count": 4,
   "id": "1814646e",
   "metadata": {},
   "outputs": [],
   "source": [
    "import networkx as nx\n",
    "import matplotlib.pyplot as plt\n",
    "import matplotlib.image as mpimg\n",
    "\n",
    "def drawGraph(GxNodes, GxEdges):\n",
    "    # init empty graph\n",
    "    Gx = nx.Graph()\n",
    "    # add starting node\n",
    "    Gx.add_nodes_from('s')\n",
    "    # add list of remaining nodes\n",
    "    Gx.add_nodes_from(GxNodes)\n",
    "    # add edges\n",
    "    Gx.add_edges_from(GxEdges)\n",
    "    nx.draw_networkx(Gx,node_size=900, arrows=True, arrowstyle='-|>')"
   ]
  },
  {
   "cell_type": "code",
   "execution_count": 5,
   "id": "f044d842",
   "metadata": {},
   "outputs": [
    {
     "data": {
      "image/png": "[encoded data removed]",
      "text/plain": [
       "<Figure size 640x480 with 1 Axes>"
      ]
     },
     "metadata": {},
     "output_type": "display_data"
    }
   ],
   "source": [
    "drawGraph(GxNodes, GxEdges)"
   ]
  },
  {
   "cell_type": "code",
   "execution_count": 6,
   "id": "207ce478",
   "metadata": {},
   "outputs": [],
   "source": [
    "def getCost(filename):\n",
    "    \n",
    "    with open(filename, 'r') as file:\n",
    "        nodes = defaultdict(list)\n",
    "        currentNode = -1\n",
    "        \n",
    "        for line in file:\n",
    "            values = line.split()\n",
    "            if values[0] == 'n':\n",
    "                currentNode = values[1]\n",
    "                nodes[currentNode] = []\n",
    "            for index in range(2, len(values)):\n",
    "                duration, cost = values[index].split(',')\n",
    "                duration = int(duration[1:])\n",
    "                cost = int(cost[:-1])\n",
    "                nodes[currentNode].append((duration, cost))\n",
    "\n",
    "        return nodes"
   ]
  },
  {
   "cell_type": "code",
   "execution_count": 7,
   "id": "dcf9a328",
   "metadata": {},
   "outputs": [],
   "source": [
    "costs = getCost(costsName)"
   ]
  },
  {
   "cell_type": "code",
   "execution_count": 8,
   "id": "8c8bbfb4",
   "metadata": {},
   "outputs": [],
   "source": [
    "def generateSolution(costs):\n",
    "    solution = [0 for _ in range(len(costs))]\n",
    "    \n",
    "    for node in costs:\n",
    "        if node == 's' or node == 'ss':\n",
    "            continue\n",
    "        solution[int(node)] = random.randrange(len(costs[node]))\n",
    "    \n",
    "    return solution"
   ]
  },
  {
   "cell_type": "code",
   "execution_count": 9,
   "id": "4e8a3ea2",
   "metadata": {},
   "outputs": [],
   "source": [
    "def budgetValue(costs, solution, budget):\n",
    "    cost = 0\n",
    "    for index in range(1, len(solution)-1):\n",
    "        cost += costs[str(index)][solution[index]][1]\n",
    "    return cost"
   ]
  },
  {
   "cell_type": "code",
   "execution_count": 10,
   "id": "7424aaef",
   "metadata": {},
   "outputs": [],
   "source": [
    "def isFeasible(costs, solution, budget):\n",
    "    return budgetValue(costs, solution, budget) < budget"
   ]
  },
  {
   "cell_type": "code",
   "execution_count": 11,
   "id": "0b950ece",
   "metadata": {},
   "outputs": [],
   "source": [
    "def generateFeasibleSolution(costs, budget):\n",
    "    solution = [0 for _ in range(len(costs))]\n",
    "    \n",
    "    for node in costs:\n",
    "        if node == 's' or node == 'ss':\n",
    "            continue\n",
    "        solution[int(node)] = random.randrange(len(costs[node]))\n",
    "    \n",
    "    if not isFeasible(costs, solution, budget):\n",
    "        return generateFeasibleSolution(costs, budget)\n",
    "    else: \n",
    "        return solution"
   ]
  },
  {
   "cell_type": "code",
   "execution_count": 12,
   "id": "d73ef4e8",
   "metadata": {},
   "outputs": [],
   "source": [
    "def getEarliestStartTime(nodes, solution, graph, earliestStartTime):\n",
    "    if nodes == []:\n",
    "        return earliestStartTime\n",
    "    durations = set()\n",
    "    newNodes = set()\n",
    "#     print(nodes)\n",
    "    for node in nodes:\n",
    "#         print(node)\n",
    "        if node == 'ss':\n",
    "            durations.add(0)\n",
    "            continue\n",
    "        step = solution[int(node)]\n",
    "        durations.add(costs[node][step][0])\n",
    "        for ancestor in graph[node]:\n",
    "            newNodes.add(ancestor)\n",
    "    earliestStartTime += max(durations)\n",
    "    return getEarliestStartTime(list(newNodes), solution, graph, earliestStartTime)"
   ]
  },
  {
   "cell_type": "code",
   "execution_count": 13,
   "id": "ea092517",
   "metadata": {},
   "outputs": [],
   "source": [
    "def solutionValue(solution, costs, graph):\n",
    "    return getEarliestStartTime(graph['s'], solution, graph, 0)"
   ]
  },
  {
   "cell_type": "code",
   "execution_count": 14,
   "id": "605fbaeb",
   "metadata": {},
   "outputs": [],
   "source": [
    "def changeSolution(solution, costs, graph):\n",
    "#     print(\"changeSolution\", solution)\n",
    "    changeStep = random.randrange(1, len(solution) - 1)\n",
    "    step = random.randrange(len(costs[str(changeStep)]))\n",
    "    if step == solution[changeStep]:\n",
    "        return changeSolution(solution, costs, graph)\n",
    "    else:\n",
    "        oldValue = solution[changeStep]\n",
    "        solution[changeStep] = step\n",
    "#         print(\"changeSolution\", solution)\n",
    "        return (changeStep, oldValue)"
   ]
  },
  {
   "cell_type": "code",
   "execution_count": 15,
   "id": "1f7d5386",
   "metadata": {},
   "outputs": [],
   "source": [
    "import random \n",
    "\n",
    "def localSearch(costs, nodes, iters, budget):\n",
    "    solution = generateFeasibleSolution(costs, budget)\n",
    "    currValue = solutionValue(solution, costs, nodes)\n",
    "    bestValue = currValue\n",
    "    \n",
    "    for i in range(iters):\n",
    "        step, oldValue = changeSolution(solution, costs, nodes)\n",
    "        if not isFeasible(costs, solution, budget):\n",
    "            solution[step] = oldValue\n",
    "        else:\n",
    "            newValue = solutionValue(solution, costs, nodes)\n",
    "            if newValue < currValue:\n",
    "                currValue = newValue\n",
    "                if newValue < bestValue:\n",
    "                    bestValue = newValue\n",
    "            else:\n",
    "                solution[step] = oldValue\n",
    "    return bestValue, solution, budgetValue(costs, solution, budget)"
   ]
  },
  {
   "cell_type": "code",
   "execution_count": 16,
   "id": "90dfd48d",
   "metadata": {},
   "outputs": [
    {
     "name": "stdout",
     "output_type": "stream",
     "text": [
      "7 [0, 1, 0, 1, 0] 26\n"
     ]
    }
   ],
   "source": [
    "duration, solution, projectCost = localSearch(costs, nodes, 100, 30)\n",
    "print(duration, solution, projectCost)"
   ]
  },
  {
   "cell_type": "code",
   "execution_count": 17,
   "id": "929e7685",
   "metadata": {},
   "outputs": [],
   "source": [
    "def simulatedAnnealing(costs, nodes, iters, budget):\n",
    "    solution = generateFeasibleSolution(costs, budget)\n",
    "    currValue = solutionValue(solution, costs, nodes)\n",
    "    bestValue = currValue\n",
    "    \n",
    "    for i in range(1, iters + 1):\n",
    "        step, oldValue = changeSolution(solution, costs, nodes)\n",
    "        if not isFeasible(costs, solution, budget):\n",
    "            solution[step] = oldValue\n",
    "        else:\n",
    "            newValue = solutionValue(solution, costs, nodes)\n",
    "            if newValue < currValue:\n",
    "                currValue = newValue\n",
    "                if newValue < bestValue:\n",
    "                    bestValue = newValue\n",
    "            else:\n",
    "                p = 1.0 / i ** 0.5\n",
    "                q = random.uniform(0, 1)\n",
    "                if p > q:\n",
    "                    currValue = newValue\n",
    "                else:\n",
    "                    solution[step] = oldValue\n",
    "    return bestValue, solution, budgetValue(costs, solution, budget)"
   ]
  },
  {
   "cell_type": "code",
   "execution_count": 18,
   "id": "7771ee4f",
   "metadata": {},
   "outputs": [
    {
     "name": "stdout",
     "output_type": "stream",
     "text": [
      "7 [0, 1, 0, 1, 0] 26\n"
     ]
    }
   ],
   "source": [
    "duration, solution, projectCost  = simulatedAnnealing(costs, nodes, 100, 30)\n",
    "print(duration, solution, projectCost)"
   ]
  },
  {
   "cell_type": "code",
   "execution_count": 19,
   "id": "32e7d0f7",
   "metadata": {},
   "outputs": [],
   "source": [
    "def getNeighborSolution(solution, k):\n",
    "    indices = range(1, len(solution) - 1)\n",
    "    changeSteps = random.sample(indices, k)\n",
    "    \n",
    "    oldValues = []\n",
    "    \n",
    "    for index in changeSteps:\n",
    "        changeStep = random.randrange(1, len(solution) - 1)\n",
    "        step = random.randrange(len(costs[str(index)]))\n",
    "        \n",
    "        oldValues.append(solution[index])\n",
    "        solution[index] = step\n",
    "        \n",
    "    return (changeSteps, oldValues)\n",
    "        "
   ]
  },
  {
   "cell_type": "code",
   "execution_count": 20,
   "id": "b02b7fae",
   "metadata": {},
   "outputs": [],
   "source": [
    "def restoreOldValue(solution, changeSteps, oldValues):\n",
    "    for i in range(len(changeSteps)):\n",
    "        solution[changeSteps[i]] = oldValues[i]\n",
    "    "
   ]
  },
  {
   "cell_type": "code",
   "execution_count": 21,
   "id": "b5223c65",
   "metadata": {},
   "outputs": [],
   "source": [
    "MAX_K = 3"
   ]
  },
  {
   "cell_type": "code",
   "execution_count": 22,
   "id": "f6148033",
   "metadata": {},
   "outputs": [],
   "source": [
    "def RVNS(costs, nodes, iters, budget, max_k):\n",
    "    solution = generateFeasibleSolution(costs, budget)\n",
    "    currValue = solutionValue(solution, costs, nodes)\n",
    "    bestValue = currValue\n",
    "    \n",
    "    for i in range(1, iters + 1):\n",
    "        k = 0\n",
    "        while k <= max_k:\n",
    "            changeSteps, oldValues = getNeighborSolution(solution, k)\n",
    "            if not isFeasible(costs, solution, budget):\n",
    "                restoreOldValue(solution, changeSteps, oldValues)\n",
    "                continue\n",
    "            newValue = solutionValue(solution, costs, nodes)\n",
    "            if newValue < currValue:\n",
    "                currValue = newValue\n",
    "                if newValue < bestValue:\n",
    "                    bestValue = newValue\n",
    "                break\n",
    "            else:\n",
    "                k += 1\n",
    "                restoreOldValue(solution, changeSteps, oldValues)\n",
    "    return bestValue, solution, budgetValue(costs, solution, budget)     "
   ]
  },
  {
   "cell_type": "code",
   "execution_count": 23,
   "id": "fa877654",
   "metadata": {},
   "outputs": [
    {
     "name": "stdout",
     "output_type": "stream",
     "text": [
      "7 [0, 1, 0, 1, 0] 26\n"
     ]
    }
   ],
   "source": [
    "duration, solution, projectCost = RVNS(costs, nodes, 100, 30, MAX_K)\n",
    "print(duration, solution, projectCost)"
   ]
  },
  {
   "cell_type": "code",
   "execution_count": 24,
   "id": "1fb1a6c3",
   "metadata": {},
   "outputs": [],
   "source": [
    "import time\n",
    "\n",
    "def executeAlgorithms(graph, costs, budget, iters):\n",
    "    \n",
    "    print(\"--------------------------------------- \" + str(iters) + \" ---------------------------------------\")\n",
    "    \n",
    "    start = time.perf_counter()\n",
    "    duration, solution, projectCost = localSearch(costs, nodes, iters, budget)\n",
    "    print(\"Solution: \", solution)\n",
    "    print(\"Duration: \", duration)\n",
    "    print(\"Cost: \", projectCost)        \n",
    "    end = time.perf_counter()\n",
    "    executionTime = end - start\n",
    "    print(\"Time needed for Local Search execution: \" + str(executionTime))\n",
    "    \n",
    "    print()\n",
    "    \n",
    "    start = time.perf_counter()\n",
    "    duration, solution, projectCost = simulatedAnnealing(costs, nodes, iters, budget)\n",
    "    print(\"Solution: \", solution)\n",
    "    print(\"Duration: \", duration)\n",
    "    print(\"Cost: \", projectCost)        \n",
    "    end = time.perf_counter()\n",
    "    executionTime = end - start\n",
    "    print(\"Time needed for Simulated Annealing execution: \" + str(executionTime))\n",
    "    \n",
    "    print()\n",
    "    \n",
    "    start = time.perf_counter()\n",
    "    duration, solution, projectCost = RVNS(costs, nodes, iters, budget, MAX_K)\n",
    "    print(\"Solution: \", solution)\n",
    "    print(\"Duration: \", duration)\n",
    "    print(\"Cost: \", projectCost)        \n",
    "    end = time.perf_counter()\n",
    "    executionTime = end - start\n",
    "    print(\"Time needed for RVNS execution: \" + str(executionTime))\n",
    "    \n",
    "    print()"
   ]
  },
  {
   "cell_type": "code",
   "execution_count": 25,
   "id": "e70cfa38",
   "metadata": {},
   "outputs": [
    {
     "name": "stdout",
     "output_type": "stream",
     "text": [
      "--------------------------------------- 100 ---------------------------------------\n",
      "Solution:  [0, 1, 0, 2, 0]\n",
      "Duration:  9\n",
      "Cost:  21\n",
      "Time needed for Local Search execution: 0.002632908999657957\n",
      "\n",
      "Solution:  [0, 1, 0, 2, 0]\n",
      "Duration:  9\n",
      "Cost:  21\n",
      "Time needed for Simulated Annealing execution: 0.0018179590006184299\n",
      "\n",
      "Solution:  [0, 1, 0, 2, 0]\n",
      "Duration:  9\n",
      "Cost:  21\n",
      "Time needed for RVNS execution: 0.035068593999312725\n",
      "\n"
     ]
    }
   ],
   "source": [
    "executeAlgorithms(nodes, costs, 26, 100)"
   ]
  },
  {
   "cell_type": "code",
   "execution_count": null,
   "id": "0177b963",
   "metadata": {},
   "outputs": [
    {
     "name": "stdout",
     "output_type": "stream",
     "text": [
      "--------------------------------------- 100 ---------------------------------------\n",
      "Solution:  [0, 0, 1, 0, 1, 0, 1, 1, 3, 2, 1, 0, 0, 1, 1, 1, 3, 1, 3, 1, 0, 0, 2, 3, 0, 3, 1, 2, 1, 0, 0, 0, 1, 1, 1, 1, 1, 0, 0, 0, 0, 0, 0, 0, 0, 0, 0, 0, 0, 0, 0, 0, 0, 0]\n",
      "Duration:  36\n",
      "Cost:  1825\n",
      "Time needed for Local Search execution: 0.03693024499807507\n",
      "\n",
      "Solution:  [0, 0, 0, 0, 0, 0, 1, 0, 0, 0, 1, 0, 2, 1, 0, 1, 2, 1, 0, 1, 1, 0, 1, 2, 1, 2, 0, 2, 2, 0, 0, 1, 0, 1, 1, 2, 1, 0, 0, 3, 0, 0, 0, 0, 0, 0, 1, 0, 1, 1, 0, 0, 0, 0]\n",
      "Duration:  46\n",
      "Cost:  2145\n",
      "Time needed for Simulated Annealing execution: 0.019257961001130752\n",
      "\n",
      "Solution:  [0, 0, 0, 0, 0, 1, 1, 1, 1, 1, 0, 0, 0, 2, 2, 0, 1, 2, 2, 0, 1, 0, 0, 1, 1, 2, 0, 1, 0, 0, 0, 1, 0, 1, 1, 1, 1, 0, 1, 1, 1, 1, 2, 0, 0, 0, 0, 1, 0, 1, 0, 2, 2, 0]\n",
      "Duration:  43\n",
      "Cost:  2186\n",
      "Time needed for RVNS execution: 0.06200325600002543\n",
      "\n",
      "--------------------------------------- 1000 ---------------------------------------\n",
      "Solution:  [0, 0, 0, 0, 0, 0, 0, 0, 3, 0, 1, 0, 1, 0, 0, 1, 2, 1, 1, 0, 2, 0, 0, 1, 1, 2, 1, 3, 1, 1, 0, 2, 1, 1, 0, 2, 0, 0, 0, 3, 0, 0, 3, 0, 0, 0, 0, 0, 0, 1, 0, 1, 1, 0]\n",
      "Duration:  49\n",
      "Cost:  2035\n",
      "Time needed for Local Search execution: 0.15487557300002663\n",
      "\n",
      "Solution:  [0, 0, 1, 0, 1, 1, 1, 1, 0, 1, 0, 0, 0, 0, 0, 0, 1, 0, 0, 0, 2, 0, 0, 2, 1, 2, 1, 0, 1, 0, 0, 0, 1, 1, 1, 0, 1, 0, 0, 1, 1, 1, 1, 0, 0, 0, 0, 0, 0, 0, 0, 0, 0, 0]\n",
      "Duration:  32\n",
      "Cost:  1990\n",
      "Time needed for Simulated Annealing execution: 0.15141634199972032\n",
      "\n",
      "Solution:  [0, 0, 0, 0, 0, 1, 0, 0, 1, 1, 1, 0, 1, 0, 0, 0, 1, 0, 0, 1, 1, 0, 1, 1, 0, 0, 1, 1, 1, 0, 0, 1, 1, 0, 0, 0, 1, 0, 1, 0, 1, 0, 0, 0, 0, 0, 1, 0, 1, 0, 0, 1, 1, 0]\n",
      "Duration:  29\n",
      "Cost:  2933\n",
      "Time needed for RVNS execution: 0.65216194399909\n",
      "\n",
      "--------------------------------------- 10000 ---------------------------------------\n",
      "Solution:  [0, 0, 1, 0, 1, 0, 1, 0, 0, 2, 1, 0, 1, 0, 2, 1, 3, 1, 1, 3, 0, 0, 0, 0, 1, 0, 2, 2, 3, 0, 0, 1, 0, 1, 1, 2, 0, 0, 1, 3, 1, 0, 3, 0, 0, 0, 1, 1, 0, 0, 0, 1, 1, 0]\n",
      "Duration:  50\n",
      "Cost:  1276\n",
      "Time needed for Local Search execution: 1.5099643490029848\n",
      "\n",
      "Solution:  [0, 0, 0, 0, 0, 0, 1, 0, 1, 0, 0, 0, 0, 0, 1, 0, 1, 1, 0, 0, 1, 0, 0, 0, 1, 1, 0, 1, 1, 1, 0, 0, 1, 0, 1, 1, 1, 0, 1, 0, 1, 1, 1, 0, 0, 0, 0, 1, 1, 0, 0, 0, 0, 0]\n",
      "Duration:  26\n",
      "Cost:  2527\n",
      "Time needed for Simulated Annealing execution: 1.52544520399897\n",
      "\n",
      "Solution:  [0, 0, 0, 0, 0, 0, 1, 1, 0, 0, 0, 0, 0, 0, 0, 0, 0, 1, 1, 0, 0, 0, 0, 1, 0, 0, 1, 1, 0, 0, 0, 0, 0, 0, 0, 0, 0, 0, 0, 0, 0, 0, 0, 0, 0, 0, 0, 0, 0, 0, 0, 0, 0, 0]\n",
      "Duration:  21\n",
      "Cost:  2860\n",
      "Time needed for RVNS execution: 6.0385832370011485\n",
      "\n",
      "--------------------------------------- 100000 ---------------------------------------\n",
      "Solution:  [0, 0, 0, 0, 0, 0, 0, 0, 2, 3, 0, 0, 1, 0, 0, 1, 3, 3, 0, 2, 1, 0, 0, 1, 1, 3, 0, 2, 0, 1, 0, 1, 1, 1, 0, 0, 1, 0, 1, 3, 0, 0, 3, 0, 0, 0, 1, 1, 2, 0, 0, 2, 2, 0]\n",
      "Duration:  53\n",
      "Cost:  2078\n",
      "Time needed for Local Search execution: 15.044479860000138\n",
      "\n",
      "Solution:  [0, 0, 0, 0, 0, 1, 1, 1, 1, 1, 0, 0, 0, 0, 0, 1, 0, 0, 0, 0, 0, 0, 0, 0, 0, 0, 0, 0, 0, 0, 0, 0, 0, 0, 0, 0, 0, 0, 0, 0, 0, 0, 0, 0, 0, 0, 0, 0, 0, 0, 0, 0, 0, 0]\n",
      "Duration:  17\n",
      "Cost:  2874\n",
      "Time needed for Simulated Annealing execution: 14.793918138999288\n",
      "\n"
     ]
    }
   ],
   "source": [
    "graphName = \"graphs/graph5.txt\"\n",
    "costsName = \"graphs/graph5costs.txt\"\n",
    "nodes, GxNodes, GxEdges = getImmediateAncestors(graphName)\n",
    "costs = getCost(costsName)\n",
    "budget = 3000\n",
    "\n",
    "for iters in [100, 1000, 10000, 100000]:\n",
    "    executeAlgorithms(nodes, costs, budget, iters)\n",
    "\n",
    "drawGraph(GxNodes, GxEdges)\n"
   ]
  }
 ],
 "metadata": {
  "kernelspec": {
   "display_name": "Python 3 (ipykernel)",
   "language": "python",
   "name": "python3"
  },
  "language_info": {
   "codemirror_mode": {
    "name": "ipython",
    "version": 3
   },
   "file_extension": ".py",
   "mimetype": "text/x-python",
   "name": "python",
   "nbconvert_exporter": "python",
   "pygments_lexer": "ipython3",
   "version": "3.8.10"
  }
 },
 "nbformat": 4,
 "nbformat_minor": 5
}
