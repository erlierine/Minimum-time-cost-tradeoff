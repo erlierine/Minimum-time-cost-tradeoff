{
 "cells": [
  {
   "cell_type": "markdown",
   "id": "6ff3bb8a",
   "metadata": {},
   "source": [
    "<h3>Graph generator</h3>\n",
    "\n",
    "In need of varous different directed acyclic graphs DAG generator was made. </br>\n",
    "It is mostly reimplemented version for python of this algorithm https://stackoverflow.com/a/12790718\n",
    "\n",
    "By tweaking MIN_PER_RANK, MAX_PER_RANK, MIN_RANKS, MAX_RANKS, PERCENT we get graphs with different number of vertices and different number of edges."
   ]
  },
  {
   "cell_type": "code",
   "execution_count": 1,
   "id": "0038df7e",
   "metadata": {},
   "outputs": [],
   "source": [
    "MIN_PER_RANK = 2 # Nodes/Rank: How 'fat' the DAG should be.\n",
    "MAX_PER_RANK = 5\n",
    "MIN_RANKS = 10    # Ranks: How 'tall' the DAG should be.\n",
    "MAX_RANKS = 15\n",
    "PERCENT = 30     # Chance of having an Edge."
   ]
  },
  {
   "cell_type": "code",
   "execution_count": 2,
   "id": "314a2f6d",
   "metadata": {},
   "outputs": [],
   "source": [
    "import random"
   ]
  },
  {
   "cell_type": "code",
   "execution_count": 3,
   "id": "e135dddd",
   "metadata": {},
   "outputs": [],
   "source": [
    " def generateEdges(filename):\n",
    "    with open(filename, 'w') as f:\n",
    "        nodes = 0\n",
    "        ranks = MIN_RANKS + (random.randint(0, 2147483647) % (MAX_RANKS - MIN_RANKS + 1))\n",
    "\n",
    "        for i in range(ranks):\n",
    "            # New nodes of 'higher' rank than all nodes generated till now.\n",
    "            new_nodes = MIN_PER_RANK + (random.randint(0, 2147483647) % (MAX_PER_RANK - MIN_PER_RANK + 1))\n",
    "\n",
    "            # Edges from old nodes ('nodes') to new ones ('new_nodes').\n",
    "            for j in range(nodes):\n",
    "                for k in range(new_nodes):\n",
    "                    if (random.randint(0, 2147483647) % 100) < PERCENT:\n",
    "                        print(str(j+1) + \" \" + str(k + nodes+1), file=f) # An Edge.\n",
    "\n",
    "            nodes += new_nodes; # Accumulate into old node set."
   ]
  },
  {
   "cell_type": "code",
   "execution_count": 4,
   "id": "2230308b",
   "metadata": {},
   "outputs": [],
   "source": [
    "# call example\n",
    "generateEdges(\"graphs/graphParserTestGraph.txt\")"
   ]
  },
  {
   "cell_type": "markdown",
   "id": "16ccd5a2",
   "metadata": {},
   "source": [
    "<h2>Graph parser</h2>\n",
    "\n",
    "Graph parser just reads previously generated graph in adequate form. </br>\n",
    "Nodes from DAG are read and returnd as (node, \\[list of ancestor\\]) in map. <br> \n",
    "For networkx to draw a graph special representation of DAG is needed so we return that as well."
   ]
  },
  {
   "cell_type": "code",
   "execution_count": 5,
   "id": "90d649c1",
   "metadata": {},
   "outputs": [],
   "source": [
    "from collections import defaultdict\n",
    "\n",
    "# Nodes in DAG that are represented as (node, [list of ancestor])\n",
    "def getImmediateAncestors(filename):\n",
    "    with open(filename, 'r') as file:\n",
    "        nodes = defaultdict(list)\n",
    "        \n",
    "        # Dummy nodes source and super sink that are added to represent start and end of project\n",
    "        sourceNodes = set()\n",
    "        superSinkNodes = set()\n",
    "        removeFromeSource = set()\n",
    "        removeFromSuperSink = set()\n",
    "        \n",
    "        # Necessary representation for networkx to draw graph\n",
    "        GxNodes = set()\n",
    "        GxEdges = []\n",
    "            \n",
    "        for line in file:\n",
    "            # from represented direceted edges as (node ancestor) we get all ancestors\n",
    "            node, ancestor = line.split()\n",
    "            \n",
    "            GxEdges.append((node, ancestor))\n",
    "            \n",
    "            nodes[node].append(ancestor)\n",
    "            sourceNodes.add(node)\n",
    "            superSinkNodes.add(ancestor)\n",
    "            removeFromeSource.add(ancestor)\n",
    "            removeFromSuperSink.add(node)\n",
    "        \n",
    "        for node in removeFromeSource:\n",
    "            sourceNodes.discard(node)\n",
    "        for node in removeFromSuperSink:\n",
    "            superSinkNodes.discard(node)\n",
    "            \n",
    "        nodes['s'] = list(sourceNodes)\n",
    "        nodes['ss'] = [None]\n",
    "        for node in superSinkNodes:\n",
    "            nodes[node].append('ss')\n",
    "            GxEdges.append((node, 'ss'))\n",
    "        \n",
    "        for s in sourceNodes:\n",
    "            GxEdges.append(('s', s))\n",
    "        GxNodes = list(sourceNodes)\n",
    "\n",
    "        # return values are directed acyclic graph represened as dictionary with nodes and their ancestors\n",
    "        # and GxNodes, GxEdges which is needed representation of graph for drawing\n",
    "        return nodes, GxNodes, GxEdges"
   ]
  },
  {
   "cell_type": "code",
   "execution_count": 6,
   "id": "92e3ca71",
   "metadata": {},
   "outputs": [
    {
     "name": "stdout",
     "output_type": "stream",
     "text": [
      "1 ['4', '5', '6', '7', '12', '14', '17', '18', '21', '24', '29', '30', '34', '36', '37', '39']\n",
      "2 ['5', '10', '11', '12', '15', '16', '18', '19', '20', '21', '22', '25', '26', '30', '33', '35', '37', '38', '40', '42']\n",
      "3 ['7', '9', '10', '12', '17', '22', '26', '33', '34', '40']\n",
      "4 ['7', '9', '13', '16', '24', '25', '27', '28', '30', '37', '38', '41']\n",
      "5 ['6', '18', '23', '26', '27', '28', '30', '39']\n",
      "6 ['13', '14', '21', '23', '38']\n",
      "7 ['11', '18', '22', '24', '26', '32', '33', '34', '36', '40']\n",
      "8 ['13', '16', '18', '19', '20', '21', '22', '23', '24', '27', '30', '31', '39', '42']\n",
      "10 ['14', '23', '25', '33', '35', '38', '39', '41']\n",
      "11 ['15', '16', '17', '19', '25', '26', '27', '30', '31', '32', '40']\n",
      "12 ['15', '16', '20', '21', '22', '23', '24', '35', '39', '42']\n",
      "9 ['22', '31', '37', '40']\n",
      "15 ['19', '26', '31', '32', '33', '37']\n",
      "17 ['22', '32', '33', '34', '37', '38']\n",
      "18 ['20', '22', '39']\n",
      "13 ['24', '28', '35', '37', '38', '42']\n",
      "14 ['25', '31', '39', '40']\n",
      "16 ['26', '30', '31', '32', '34', '38', '39']\n",
      "19 ['23', '30', '32', '33', '35', '37', '42']\n",
      "20 ['24', '26', '27', '28', '30', '33', '34', '40']\n",
      "22 ['24', '25', '26', '28', '29', '30', '37', '42']\n",
      "26 ['27', '30', '32', '37']\n",
      "21 ['29', '34', '35', '36', '38', '39']\n",
      "23 ['29', '32', '34', '41']\n",
      "28 ['29', '32', '33', '36', '38', '40', '41', '42']\n",
      "24 ['32', '34', '39', '42']\n",
      "25 ['31', '35', '37', '39', '42']\n",
      "27 ['34', '37', '41', '42']\n",
      "29 ['31', '33', '36']\n",
      "30 ['33', '40', '41']\n",
      "33 ['36', '38', '39']\n",
      "31 ['39', '41']\n",
      "34 ['40', '41', '42']\n",
      "35 ['41']\n",
      "36 ['39', '40', '41', '42']\n",
      "37 ['41']\n",
      "s ['8', '3', '1', '2']\n",
      "ss [None]\n",
      "38 ['ss']\n",
      "39 ['ss']\n",
      "41 ['ss']\n",
      "32 ['ss']\n",
      "40 ['ss']\n",
      "42 ['ss']\n"
     ]
    }
   ],
   "source": [
    "nodes, GxNodes, GxEdges = getImmediateAncestors(\"graphs/graphParserTestGraph.txt\")\n",
    "for node in nodes:\n",
    "    print(node, nodes[node])"
   ]
  },
  {
   "cell_type": "markdown",
   "id": "2435d49a",
   "metadata": {},
   "source": [
    "<h3>Costs generator</h3>\n",
    "\n",
    "After generating graph we need to generate k pairs in form of (duration, cost) for each node.</br>\n",
    "For given number of vertices durations with cost for each one is generated.\n",
    "\n",
    "Example of one entry: </br>\n",
    "*n 18 (1,121) (2,81) (3,36)*"
   ]
  },
  {
   "cell_type": "code",
   "execution_count": 7,
   "id": "e5ca1e77",
   "metadata": {},
   "outputs": [],
   "source": [
    "MAX_NUMBER_OF_STEPS = 5"
   ]
  },
  {
   "cell_type": "code",
   "execution_count": 8,
   "id": "0c2e4597",
   "metadata": {},
   "outputs": [],
   "source": [
    "import random \n",
    "import math\n",
    "\n",
    "def generateCostsForGraph(numOfNodes, filename):\n",
    "    with open(filename, 'w') as f:\n",
    "        for i in range(1, numOfNodes - 1):\n",
    "            entry = \"n\" + \" \" + str(i) + \" \"\n",
    "            numOfSteps = random.randrange(1, MAX_NUMBER_OF_STEPS)\n",
    "            for step in range(numOfSteps):\n",
    "                duration = math.ceil(random.uniform(step, step + 1))\n",
    "                cost = math.ceil(random.uniform(numOfSteps - step, numOfSteps - step + 1)*3)\n",
    "                entry += \"(\" + str(duration) + \",\" + str(cost**2) + \")\" + \" \"\n",
    "            print(entry, file=f)\n",
    "        print(\"n s (0,0)\", file=f)\n",
    "        print(\"n ss (0,0)\", file=f)"
   ]
  },
  {
   "cell_type": "code",
   "execution_count": 9,
   "id": "5340b482",
   "metadata": {},
   "outputs": [],
   "source": [
    "generateCostsForGraph(len(nodes), \"graphs/graphParserTestGraphCosts.txt\")"
   ]
  },
  {
   "cell_type": "markdown",
   "id": "4357d0db",
   "metadata": {},
   "source": [
    "<h3>Draw graph</h3>"
   ]
  },
  {
   "cell_type": "code",
   "execution_count": 10,
   "id": "38549bb0",
   "metadata": {},
   "outputs": [],
   "source": [
    "import networkx as nx\n",
    "import matplotlib.pyplot as plt\n",
    "import matplotlib.image as mpimg\n",
    "\n",
    "def drawGraph(GxNodes, GxEdges):\n",
    "    # init empty graph\n",
    "    Gx = nx.Graph()\n",
    "    # add starting node\n",
    "    Gx.add_nodes_from('s')\n",
    "    # add list of remaining nodes\n",
    "    Gx.add_nodes_from(GxNodes)\n",
    "    # add edges\n",
    "    Gx.add_edges_from(GxEdges)\n",
    "    nx.draw_networkx(Gx,node_size=900, arrows=True, arrowstyle='-|>')"
   ]
  },
  {
   "cell_type": "code",
   "execution_count": null,
   "id": "cbd83711",
   "metadata": {},
   "outputs": [],
   "source": [
    "drawGraph(GxNodes, GxEdges)"
   ]
  },
  {
   "cell_type": "markdown",
   "id": "9a328838",
   "metadata": {},
   "source": [
    "<h3>Get costs</h3>\n",
    "\n",
    "From generated costs we get them in needed form."
   ]
  },
  {
   "cell_type": "code",
   "execution_count": null,
   "id": "1d44b183",
   "metadata": {},
   "outputs": [],
   "source": [
    "def getCost(filename):\n",
    "    # one node represents one task, each task has array of durations with assigned costs\n",
    "    # here we read thoes (duration, value) pairs and add them in dict for each node\n",
    "    with open(filename, 'r') as file:\n",
    "        nodes = defaultdict(list)\n",
    "        currentNode = -1\n",
    "        \n",
    "        for line in file:\n",
    "            values = line.split()\n",
    "            if values[0] == 'n':\n",
    "                currentNode = values[1]\n",
    "                nodes[currentNode] = []\n",
    "            for index in range(2, len(values)):\n",
    "                duration, cost = values[index].split(',')\n",
    "                duration = int(duration[1:])\n",
    "                cost = int(cost[:-1])\n",
    "                nodes[currentNode].append((duration, cost))\n",
    "\n",
    "        return nodes"
   ]
  },
  {
   "cell_type": "code",
   "execution_count": null,
   "id": "4d13f10f",
   "metadata": {},
   "outputs": [],
   "source": [
    "costs = getCost(\"graphs/graphParserTestGraphCosts.txt\")\n",
    "costs"
   ]
  }
 ],
 "metadata": {
  "kernelspec": {
   "display_name": "Python 3 (ipykernel)",
   "language": "python",
   "name": "python3"
  },
  "language_info": {
   "codemirror_mode": {
    "name": "ipython",
    "version": 3
   },
   "file_extension": ".py",
   "mimetype": "text/x-python",
   "name": "python",
   "nbconvert_exporter": "python",
   "pygments_lexer": "ipython3",
   "version": "3.8.10"
  }
 },
 "nbformat": 4,
 "nbformat_minor": 5
}
