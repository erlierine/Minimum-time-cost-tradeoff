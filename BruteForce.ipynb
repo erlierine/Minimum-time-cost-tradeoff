{
 "cells": [
  {
   "cell_type": "markdown",
   "id": "e9cc2a5e",
   "metadata": {},
   "source": [
    "For given graph of tasks with its execution costs we calculate minimum duration time for given budget."
   ]
  },
  {
   "cell_type": "code",
   "execution_count": 1,
   "id": "4c9054c9",
   "metadata": {},
   "outputs": [],
   "source": [
    "graphName = \"graphs/testGraph.txt\"\n",
    "costsName = \"graphs/testGraphCosts.txt\""
   ]
  },
  {
   "cell_type": "markdown",
   "id": "08c69422",
   "metadata": {},
   "source": [
    "First we read graph from *graphName*"
   ]
  },
  {
   "cell_type": "code",
   "execution_count": 38,
   "id": "2d3a5ac9",
   "metadata": {},
   "outputs": [],
   "source": [
    "from collections import defaultdict\n",
    "\n",
    "# Nodes in DAG that are represented as (node, [list of ancestor])\n",
    "def getImmediateAncestors(filename):\n",
    "    with open(filename, 'r') as file:\n",
    "        nodes = defaultdict(list)\n",
    "        \n",
    "        # Dummy nodes source and super sink that are added to represent start and end of project\n",
    "        sourceNodes = set()\n",
    "        superSinkNodes = set()\n",
    "        removeFromeSource = set()\n",
    "        removeFromSuperSink = set()\n",
    "        \n",
    "        # Necessary representation for networkx to draw graph\n",
    "        GxNodes = set()\n",
    "        GxEdges = []\n",
    "            \n",
    "        for line in file:\n",
    "            # from represented direceted edges as (node ancestor) we get all ancestors\n",
    "            node, ancestor = line.split()\n",
    "            \n",
    "            GxEdges.append((node, ancestor))\n",
    "            \n",
    "            nodes[node].append(ancestor)\n",
    "            sourceNodes.add(node)\n",
    "            superSinkNodes.add(ancestor)\n",
    "            removeFromeSource.add(ancestor)\n",
    "            removeFromSuperSink.add(node)\n",
    "        \n",
    "        for node in removeFromeSource:\n",
    "            sourceNodes.discard(node)\n",
    "        for node in removeFromSuperSink:\n",
    "            superSinkNodes.discard(node)\n",
    "            \n",
    "        nodes['s'] = list(sourceNodes)\n",
    "        nodes['ss'] = [None]\n",
    "        for node in superSinkNodes:\n",
    "            nodes[node].append('ss')\n",
    "            GxEdges.append((node, 'ss'))\n",
    "        \n",
    "        for s in sourceNodes:\n",
    "            GxEdges.append(('s', s))\n",
    "        GxNodes = list(sourceNodes)\n",
    "        \n",
    "        for node in nodes:\n",
    "            print(node, nodes[node])\n",
    "\n",
    "        # return values are directed acyclic graph represened as dictionary with nodes and their ancestors\n",
    "        # and GxNodes, GxEdges which is needed representation of graph for drawing\n",
    "        return nodes, GxNodes, GxEdges"
   ]
  },
  {
   "cell_type": "code",
   "execution_count": 3,
   "id": "3f40ac65",
   "metadata": {},
   "outputs": [
    {
     "name": "stdout",
     "output_type": "stream",
     "text": [
      "1 ['3']\n",
      "2 ['3']\n",
      "s ['2', '1']\n",
      "ss [None]\n",
      "3 ['ss']\n"
     ]
    }
   ],
   "source": [
    "nodes, GxNodes, GxEdges = getImmediateAncestors(graphName)"
   ]
  },
  {
   "cell_type": "markdown",
   "id": "34cdf949",
   "metadata": {},
   "source": [
    "Then we get graphic representation of graph"
   ]
  },
  {
   "cell_type": "code",
   "execution_count": 4,
   "id": "c3df49c6",
   "metadata": {},
   "outputs": [],
   "source": [
    "import networkx as nx\n",
    "import matplotlib.pyplot as plt\n",
    "import matplotlib.image as mpimg\n",
    "\n",
    "def drawGraph(GxNodes, GxEdges):\n",
    "    # init empty graph\n",
    "    Gx = nx.Graph()\n",
    "    # add starting node\n",
    "    Gx.add_nodes_from('s')\n",
    "    # add list of remaining nodes\n",
    "    Gx.add_nodes_from(GxNodes)\n",
    "    # add edges\n",
    "    Gx.add_edges_from(GxEdges)\n",
    "    nx.draw_networkx(Gx,node_size=900, arrows=True, arrowstyle='-|>')"
   ]
  },
  {
   "cell_type": "code",
   "execution_count": 5,
   "id": "81650991",
   "metadata": {},
   "outputs": [
    {
     "data": {
      "image/png": "[encoded data removed]",
      "text/plain": [
       "<Figure size 640x480 with 1 Axes>"
      ]
     },
     "metadata": {},
     "output_type": "display_data"
    }
   ],
   "source": [
    "drawGraph(GxNodes, GxEdges)"
   ]
  },
  {
   "cell_type": "markdown",
   "id": "8e340df7",
   "metadata": {},
   "source": [
    "Then we get costs for durations for each tasks"
   ]
  },
  {
   "cell_type": "code",
   "execution_count": 6,
   "id": "3b34bbf6",
   "metadata": {},
   "outputs": [],
   "source": [
    "def getCost(filename):\n",
    "    # one node represents one task, each task has array of durations with assigned costs\n",
    "    # here we read thoes (duration, value) pairs and add them in dict for each node\n",
    "    with open(filename, 'r') as file:\n",
    "        nodes = defaultdict(list)\n",
    "        currentNode = -1\n",
    "        \n",
    "        for line in file:\n",
    "            values = line.split()\n",
    "            if values[0] == 'n':\n",
    "                currentNode = values[1]\n",
    "                nodes[currentNode] = []\n",
    "            for index in range(2, len(values)):\n",
    "                duration, cost = values[index].split(',')\n",
    "                duration = int(duration[1:])\n",
    "                cost = int(cost[:-1])\n",
    "                nodes[currentNode].append((duration, cost))\n",
    "\n",
    "        return nodes"
   ]
  },
  {
   "cell_type": "code",
   "execution_count": 7,
   "id": "69f434cf",
   "metadata": {},
   "outputs": [
    {
     "data": {
      "text/plain": [
       "defaultdict(list,\n",
       "            {'1': [(2, 20), (5, 8)],\n",
       "             '2': [(3, 8)],\n",
       "             '3': [(1, 20), (2, 10), (4, 5)],\n",
       "             's': [(0, 0)],\n",
       "             'ss': [(0, 0)]})"
      ]
     },
     "execution_count": 7,
     "metadata": {},
     "output_type": "execute_result"
    }
   ],
   "source": [
    "costs = getCost(costsName)\n",
    "costs"
   ]
  },
  {
   "cell_type": "markdown",
   "id": "846ac736",
   "metadata": {},
   "source": [
    "Duration is calculated by earliest start time. Next group of tasks in order can start earliest when last task in previous group is finnished."
   ]
  },
  {
   "cell_type": "code",
   "execution_count": 8,
   "id": "01cf746e",
   "metadata": {},
   "outputs": [],
   "source": [
    "def getEarliestStartTime(nodes, solution, graph, costs, earliestStartTime):\n",
    "    if nodes == []:\n",
    "        return earliestStartTime\n",
    "    durations = set()\n",
    "    newNodes = []\n",
    "#     print(nodes)\n",
    "    for node in nodes:\n",
    "#         print(node)\n",
    "        if node == 'ss':\n",
    "            durations.add(0)\n",
    "            continue\n",
    "        step = solution[int(node)]\n",
    "        durations.add(costs[node][step][0])\n",
    "        for ancestor in graph[node]:\n",
    "            newNodes.append(ancestor)\n",
    "    earliestStartTime += max(durations)\n",
    "    return getEarliestStartTime(newNodes, solution, graph, costs, earliestStartTime)"
   ]
  },
  {
   "cell_type": "markdown",
   "id": "396a1d53",
   "metadata": {},
   "source": [
    "Budget value is calculated trivially by summing costs for given execution time and given task. "
   ]
  },
  {
   "cell_type": "code",
   "execution_count": 9,
   "id": "4e2d4aef",
   "metadata": {},
   "outputs": [],
   "source": [
    "def budgetValue(costs, solution):\n",
    "    cost = 0\n",
    "    for index in range(1, len(solution)-1):\n",
    "        cost += costs[str(index)][solution[index]][1]\n",
    "    return cost"
   ]
  },
  {
   "cell_type": "markdown",
   "id": "504a1d8d",
   "metadata": {},
   "source": [
    "Brute force algorithm calculates minimal duration time of project for every possible combination of duration times for each node, then we find solution that satisfies budget."
   ]
  },
  {
   "cell_type": "code",
   "execution_count": 10,
   "id": "b73f9d8b",
   "metadata": {},
   "outputs": [],
   "source": [
    "import queue\n",
    "\n",
    "def bruteForce(graph, costs, budget):\n",
    "    # queue in which we will put all the combinations of durations of tasks for project\n",
    "    q = queue.Queue()\n",
    "    # number of nodes except source and super sink nodes which are dummy nodes\n",
    "    numOfNodes = len(graph) - 2\n",
    "    \n",
    "    executionPlan = [0 for i in range(len(graph))]\n",
    "    \n",
    "    for i in range(1, numOfNodes+1):\n",
    "        old = executionPlan[i]\n",
    "        for step in range(len(costs[str(i)])):\n",
    "            executionPlan[i] = step\n",
    "            q.put(executionPlan.copy())\n",
    "            for j in reversed(range(1, i)):\n",
    "                oldInner = executionPlan[j]\n",
    "                for step in range(len(costs[str(j)])):\n",
    "                    executionPlan[j] = step\n",
    "                    q.put(executionPlan.copy())\n",
    "                executionPlan[j] = oldInner\n",
    "        executionPlan[i] = old\n",
    "        \n",
    "    solutions = []\n",
    "    while not q.empty():\n",
    "        solution = q.get()\n",
    "        duration = getEarliestStartTime(graph['s'], solution, graph, costs, 0)\n",
    "        solutions.append((duration, solution.copy()))\n",
    "    solutions = sorted(solutions, key = lambda x: x[0])\n",
    "    for s in solutions:\n",
    "        solutionBudget = budgetValue(costs, s[1])\n",
    "        if solutionBudget > budget:\n",
    "            continue\n",
    "        else:\n",
    "            minSolution = s[1]\n",
    "            minDuration = s[0]\n",
    "            minBudget = solutionBudget\n",
    "            return minSolution, minDuration, minBudget\n",
    "    raise Exception(\"No solution found for given budget, raise budget to get solution.\") "
   ]
  },
  {
   "cell_type": "markdown",
   "id": "0339cbad",
   "metadata": {},
   "source": [
    "Brute force algorithm with cutting calculates minimal duration time of project for every possible combination of duration times for each node if it satisfy budget if it doesn't we don't calculate for that node."
   ]
  },
  {
   "cell_type": "code",
   "execution_count": 11,
   "id": "5ebdee9e",
   "metadata": {},
   "outputs": [],
   "source": [
    "import queue\n",
    "\n",
    "def bruteForceBandB(graph, costs, budget):\n",
    "    # queue in which we will put all the combinations of durations of tasks for project\n",
    "    q = queue.Queue()\n",
    "    # number of nodes except source and super sink nodes which are dummy nodes\n",
    "    numOfNodes = len(graph) - 2\n",
    "    \n",
    "    executionPlan = [0 for i in range(len(graph))]\n",
    "    \n",
    "    for i in range(1, numOfNodes+1):\n",
    "        old = executionPlan[i]\n",
    "        for step in range(len(costs[str(i)])):\n",
    "            executionPlan[i] = step\n",
    "            q.put(executionPlan.copy())\n",
    "            for j in reversed(range(1, i)):\n",
    "                oldInner = executionPlan[j]\n",
    "                for step in range(len(costs[str(j)])):\n",
    "                    executionPlan[j] = step\n",
    "                    q.put(executionPlan.copy())\n",
    "                executionPlan[j] = oldInner\n",
    "        executionPlan[i] = old\n",
    "        \n",
    "    minDuration = float('inf')\n",
    "    minBudget = 0\n",
    "    \n",
    "    print(q.qsize())\n",
    "    \n",
    "    while not q.empty():\n",
    "        solution = q.get()\n",
    "        solutionBudget = budgetValue(costs, solution)\n",
    "        if solutionBudget > budget:\n",
    "            continue\n",
    "        duration = getEarliestStartTime(graph['s'], solution, graph, costs, 0)\n",
    "        if duration < minDuration:\n",
    "            minDuration = duration\n",
    "            minSolution = solution.copy()\n",
    "            minBudget = solutionBudget\n",
    "            \n",
    "    return minSolution, minDuration, minBudget\n"
   ]
  },
  {
   "cell_type": "code",
   "execution_count": 12,
   "id": "0f835faf",
   "metadata": {},
   "outputs": [],
   "source": [
    "import time\n",
    "\n",
    "def executeBruteForce(graph, costs, budget):\n",
    "    start = time.perf_counter()\n",
    "\n",
    "    try:\n",
    "        minSolution, minDuration, minBudget = bruteForce(graph, costs, budget)\n",
    "        print(\"Solution: \", minSolution)\n",
    "        print(\"Duration: \", minDuration)\n",
    "        print(\"Cost: \", minBudget)\n",
    "    except Exception as err:\n",
    "        print(err)\n",
    "\n",
    "    end = time.perf_counter()\n",
    "    executionTime = end - start\n",
    "\n",
    "    print(\"Time needed for execution: \" + str(executionTime))"
   ]
  },
  {
   "cell_type": "code",
   "execution_count": 36,
   "id": "541b465f",
   "metadata": {},
   "outputs": [
    {
     "name": "stdout",
     "output_type": "stream",
     "text": [
      "Solution:  [0, 1, 0, 1, 0]\n",
      "Duration:  7\n",
      "Cost:  26\n",
      "Time needed for execution: 0.00092434299949673\n"
     ]
    }
   ],
   "source": [
    "executeBruteForce(nodes, costs, 26)"
   ]
  },
  {
   "cell_type": "code",
   "execution_count": 14,
   "id": "8a6bd0e9",
   "metadata": {},
   "outputs": [],
   "source": [
    "import time\n",
    "\n",
    "def executeBruteForceBandB(graph, costs, budget):\n",
    "    start = time.perf_counter()\n",
    "\n",
    "    try:\n",
    "        minSolution, minDuration, minBudget = bruteForceBandB(graph, costs, budget)\n",
    "        print(\"Solution: \", minSolution)\n",
    "        print(\"Duration: \", minDuration)\n",
    "        print(\"Cost: \", minBudget)\n",
    "    except Exception as err:\n",
    "        print(err)\n",
    "\n",
    "    end = time.perf_counter()\n",
    "    executionTime = end - start\n",
    "\n",
    "    print(\"Time needed for execution: \" + str(executionTime))"
   ]
  },
  {
   "cell_type": "code",
   "execution_count": 37,
   "id": "c16d1879",
   "metadata": {},
   "outputs": [
    {
     "name": "stdout",
     "output_type": "stream",
     "text": [
      "17\n",
      "Solution:  [0, 1, 0, 1, 0]\n",
      "Duration:  7\n",
      "Cost:  26\n",
      "Time needed for execution: 0.00015001900101196952\n"
     ]
    }
   ],
   "source": [
    "executeBruteForceBandB(nodes, costs, 26)"
   ]
  },
  {
   "cell_type": "code",
   "execution_count": null,
   "id": "72514b9a",
   "metadata": {},
   "outputs": [],
   "source": []
  }
 ],
 "metadata": {
  "kernelspec": {
   "display_name": "Python 3 (ipykernel)",
   "language": "python",
   "name": "python3"
  },
  "language_info": {
   "codemirror_mode": {
    "name": "ipython",
    "version": 3
   },
   "file_extension": ".py",
   "mimetype": "text/x-python",
   "name": "python",
   "nbconvert_exporter": "python",
   "pygments_lexer": "ipython3",
   "version": "3.8.10"
  }
 },
 "nbformat": 4,
 "nbformat_minor": 5
}
