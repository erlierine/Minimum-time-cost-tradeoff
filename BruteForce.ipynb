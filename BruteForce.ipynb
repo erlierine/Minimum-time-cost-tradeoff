{
 "cells": [
  {
   "cell_type": "markdown",
   "id": "f62ff2a7",
   "metadata": {},
   "source": [
    "For given graph of tasks with its execution costs we calculate minimum duration for given budget."
   ]
  },
  {
   "cell_type": "code",
   "execution_count": 1,
   "id": "4c9054c9",
   "metadata": {},
   "outputs": [],
   "source": [
    "graphName = \"graphs/testGraph.txt\"\n",
    "costsName = \"graphs/testGraphcosts.txt\""
   ]
  },
  {
   "cell_type": "markdown",
   "id": "76ac6e13",
   "metadata": {},
   "source": [
    "First we read graph from *graphName* file."
   ]
  },
  {
   "cell_type": "code",
   "execution_count": 2,
   "id": "2d3a5ac9",
   "metadata": {},
   "outputs": [],
   "source": [
    "from collections import defaultdict\n",
    "\n",
    "# Nodes in DAG that are represented as (node, [list of ancestor])\n",
    "def getImmediateAncestors(filename):\n",
    "    with open(filename, 'r') as file:\n",
    "        nodes = defaultdict(list)\n",
    "        \n",
    "        # Dummy nodes source and super sink that are added to represent start and end of project\n",
    "        sourceNodes = set()\n",
    "        superSinkNodes = set()\n",
    "        removeFromeSource = set()\n",
    "        removeFromSuperSink = set()\n",
    "        \n",
    "        # Necessary representation for networkx to draw graph\n",
    "        GxNodes = set()\n",
    "        GxEdges = []\n",
    "            \n",
    "        for line in file:\n",
    "            # from represented direceted edges as (node ancestor) we get all ancestors\n",
    "            node, ancestor = line.split()\n",
    "            \n",
    "            GxEdges.append((node, ancestor))\n",
    "            \n",
    "            nodes[node].append(ancestor)\n",
    "            sourceNodes.add(node)\n",
    "            superSinkNodes.add(ancestor)\n",
    "            removeFromeSource.add(ancestor)\n",
    "            removeFromSuperSink.add(node)\n",
    "        \n",
    "        for node in removeFromeSource:\n",
    "            sourceNodes.discard(node)\n",
    "        for node in removeFromSuperSink:\n",
    "            superSinkNodes.discard(node)\n",
    "            \n",
    "        nodes['s'] = list(sourceNodes)\n",
    "        nodes['ss'] = [None]\n",
    "        for node in superSinkNodes:\n",
    "            nodes[node].append('ss')\n",
    "            GxEdges.append((node, 'ss'))\n",
    "        \n",
    "        for s in sourceNodes:\n",
    "            GxEdges.append(('s', s))\n",
    "        GxNodes = list(sourceNodes)\n",
    "        \n",
    "#         for node in nodes:\n",
    "#             print(node, nodes[node])\n",
    "\n",
    "        # return values are directed acyclic graph represened as dictionary with nodes and their ancestors\n",
    "        # and GxNodes, GxEdges which is needed representation of graph for drawing\n",
    "        return nodes, GxNodes, GxEdges"
   ]
  },
  {
   "cell_type": "code",
   "execution_count": 3,
   "id": "3f40ac65",
   "metadata": {},
   "outputs": [],
   "source": [
    "nodes, GxNodes, GxEdges = getImmediateAncestors(graphName)"
   ]
  },
  {
   "cell_type": "markdown",
   "id": "c6eb2b71",
   "metadata": {},
   "source": [
    "Then we get graphic representation of graph."
   ]
  },
  {
   "cell_type": "code",
   "execution_count": 4,
   "id": "c3df49c6",
   "metadata": {},
   "outputs": [],
   "source": [
    "import networkx as nx\n",
    "import matplotlib.pyplot as plt\n",
    "import matplotlib.image as mpimg\n",
    "\n",
    "def drawGraph(GxNodes, GxEdges):\n",
    "    # init empty graph\n",
    "    Gx = nx.Graph()\n",
    "    # add starting node\n",
    "    Gx.add_nodes_from('s')\n",
    "    # add list of remaining nodes\n",
    "    Gx.add_nodes_from(GxNodes)\n",
    "    # add edges\n",
    "    Gx.add_edges_from(GxEdges)\n",
    "    nx.draw_networkx(Gx,node_size=900, arrows=True, arrowstyle='-|>')"
   ]
  },
  {
   "cell_type": "code",
   "execution_count": 5,
   "id": "81650991",
   "metadata": {},
   "outputs": [
    {
     "data": {
      "image/png": "[encoded data removed]",
      "text/plain": [
       "<Figure size 640x480 with 1 Axes>"
      ]
     },
     "metadata": {},
     "output_type": "display_data"
    }
   ],
   "source": [
    "drawGraph(GxNodes, GxEdges)"
   ]
  },
  {
   "cell_type": "markdown",
   "id": "ab604a00",
   "metadata": {},
   "source": [
    "Then we get costs for durations for each tasks"
   ]
  },
  {
   "cell_type": "code",
   "execution_count": 6,
   "id": "3b34bbf6",
   "metadata": {},
   "outputs": [],
   "source": [
    "def getCost(filename):\n",
    "    # one node represents one task, each task has array of durations with assigned costs\n",
    "    # here we read thoes (duration, value) pairs and add them in dict for each node\n",
    "    with open(filename, 'r') as file:\n",
    "        nodes = defaultdict(list)\n",
    "        currentNode = -1\n",
    "        \n",
    "        for line in file:\n",
    "            values = line.split()\n",
    "            if values[0] == 'n':\n",
    "                currentNode = values[1]\n",
    "                nodes[currentNode] = []\n",
    "            for index in range(2, len(values)):\n",
    "                duration, cost = values[index].split(',')\n",
    "                duration = int(duration[1:])\n",
    "                cost = int(cost[:-1])\n",
    "                nodes[currentNode].append((duration, cost))\n",
    "\n",
    "        return nodes"
   ]
  },
  {
   "cell_type": "code",
   "execution_count": 7,
   "id": "69f434cf",
   "metadata": {},
   "outputs": [
    {
     "data": {
      "text/plain": [
       "defaultdict(list,\n",
       "            {'1': [(2, 20), (5, 8)],\n",
       "             '2': [(3, 8)],\n",
       "             '3': [(1, 20), (2, 10), (4, 5)],\n",
       "             's': [(0, 0)],\n",
       "             'ss': [(0, 0)]})"
      ]
     },
     "execution_count": 7,
     "metadata": {},
     "output_type": "execute_result"
    }
   ],
   "source": [
    "costs = getCost(costsName)\n",
    "costs"
   ]
  },
  {
   "cell_type": "markdown",
   "id": "e75b26ed",
   "metadata": {},
   "source": [
    "Duration is calculated by earliest start time. Next group of tasks in order can start earliest when last task in previous group is finnished."
   ]
  },
  {
   "cell_type": "code",
   "execution_count": 8,
   "id": "01cf746e",
   "metadata": {},
   "outputs": [],
   "source": [
    "def getEarliestStartTime(nodes, solution, graph, costs, earliestStartTime):\n",
    "    if nodes == []:\n",
    "        return earliestStartTime\n",
    "    durations = set()\n",
    "    newNodes = []\n",
    "#     print(nodes)\n",
    "    for node in nodes:\n",
    "#         print(node)\n",
    "        if node == 'ss':\n",
    "            durations.add(0)\n",
    "            continue\n",
    "        step = solution[int(node)]\n",
    "        durations.add(costs[node][step][0])\n",
    "        for ancestor in graph[node]:\n",
    "            newNodes.append(ancestor)\n",
    "    earliestStartTime += max(durations)\n",
    "    return getEarliestStartTime(newNodes, solution, graph, costs, earliestStartTime)"
   ]
  },
  {
   "cell_type": "markdown",
   "id": "56ff13c5",
   "metadata": {},
   "source": [
    "Budget value is calculated trivially by summing costs for given execution time and given task. "
   ]
  },
  {
   "cell_type": "code",
   "execution_count": 9,
   "id": "4e2d4aef",
   "metadata": {},
   "outputs": [],
   "source": [
    "def budgetValue(costs, solution):\n",
    "    cost = 0\n",
    "    for index in range(1, len(solution)-1):\n",
    "        cost += costs[str(index)][solution[index]][1]\n",
    "    return cost"
   ]
  },
  {
   "cell_type": "markdown",
   "id": "7d5044fa",
   "metadata": {},
   "source": [
    "Brute force algorithm calculates minimal duration time of project for every possible combination of duration times for each node, then we find solution that satisfies budget."
   ]
  },
  {
   "cell_type": "code",
   "execution_count": 10,
   "id": "b73f9d8b",
   "metadata": {},
   "outputs": [],
   "source": [
    "import queue\n",
    "\n",
    "def bruteForce(graph, costs, budget):\n",
    "    # queue in which we will put all the combinations of durations of tasks for project\n",
    "    q = queue.Queue()\n",
    "    # number of nodes except source and super sink nodes which are dummy nodes\n",
    "    numOfNodes = len(graph) - 2\n",
    "    \n",
    "    executionPlan = [0 for i in range(len(graph))]\n",
    "    \n",
    "    for i in range(1, numOfNodes+1):\n",
    "        old = executionPlan[i]\n",
    "        for step in range(len(costs[str(i)])):\n",
    "            executionPlan[i] = step\n",
    "            q.put(executionPlan.copy())\n",
    "            for j in reversed(range(1, i)):\n",
    "                oldInner = executionPlan[j]\n",
    "                for step in range(len(costs[str(j)])):\n",
    "                    executionPlan[j] = step\n",
    "                    q.put(executionPlan.copy())\n",
    "                executionPlan[j] = oldInner\n",
    "        executionPlan[i] = old\n",
    "        \n",
    "    solutions = []\n",
    "    while not q.empty():\n",
    "        solution = q.get()\n",
    "        duration = getEarliestStartTime(graph['s'], solution, graph, costs, 0)\n",
    "        solutions.append((duration, solution.copy()))\n",
    "    solutions = sorted(solutions, key = lambda x: x[0])\n",
    "    for s in solutions:\n",
    "        solutionBudget = budgetValue(costs, s[1])\n",
    "        if solutionBudget > budget:\n",
    "            continue\n",
    "        else:\n",
    "            minSolution = s[1]\n",
    "            minDuration = s[0]\n",
    "            minBudget = solutionBudget\n",
    "            return minSolution, minDuration, minBudget\n",
    "    raise Exception(\"No solution found for given budget, raise budget to get solution.\") "
   ]
  },
  {
   "cell_type": "markdown",
   "id": "6742dbbb",
   "metadata": {},
   "source": [
    "Brute force algorithm with cutting calculates minimal duration time of project for every possible combination of duration times for each node if it satisfy budget if it doesn't we don't calculate for that node."
   ]
  },
  {
   "cell_type": "code",
   "execution_count": 11,
   "id": "5ebdee9e",
   "metadata": {},
   "outputs": [],
   "source": [
    "import queue\n",
    "\n",
    "def bruteForceBandB(graph, costs, budget):\n",
    "    # queue in which we will put all the combinations of durations of tasks for project\n",
    "    q = queue.Queue()\n",
    "    # number of nodes except source and super sink nodes which are dummy nodes\n",
    "    numOfNodes = len(graph) - 2\n",
    "    \n",
    "    executionPlan = [0 for i in range(len(graph))]\n",
    "    \n",
    "    for i in range(1, numOfNodes+1):\n",
    "        old = executionPlan[i]\n",
    "        for step in range(len(costs[str(i)])):\n",
    "            executionPlan[i] = step\n",
    "            q.put(executionPlan.copy())\n",
    "            for j in reversed(range(1, i)):\n",
    "                oldInner = executionPlan[j]\n",
    "                for step in range(len(costs[str(j)])):\n",
    "                    executionPlan[j] = step\n",
    "                    q.put(executionPlan.copy())\n",
    "                executionPlan[j] = oldInner\n",
    "        executionPlan[i] = old\n",
    "        \n",
    "    minDuration = float('inf')\n",
    "    minBudget = 0\n",
    "    minSolution = []\n",
    "    \n",
    "    while not q.empty():\n",
    "        solution = q.get()\n",
    "        solutionBudget = budgetValue(costs, solution)\n",
    "#         print(solutionBudget)\n",
    "        if solutionBudget > budget:\n",
    "            continue\n",
    "        duration = getEarliestStartTime(graph['s'], solution, graph, costs, 0)\n",
    "        if duration < minDuration:\n",
    "            minDuration = duration\n",
    "            minSolution = solution.copy()\n",
    "            minBudget = solutionBudget\n",
    "    \n",
    "    if minDuration == float('inf'):\n",
    "        raise Exception(\"No solution found for given budget, raise budget to get solution.\") \n",
    "            \n",
    "    return minSolution, minDuration, minBudget\n"
   ]
  },
  {
   "cell_type": "markdown",
   "id": "fa4b1507",
   "metadata": {},
   "source": [
    "Here we just got nicer output with execution time and solutions."
   ]
  },
  {
   "cell_type": "code",
   "execution_count": 12,
   "id": "3b2d1efc",
   "metadata": {},
   "outputs": [],
   "source": [
    "import time\n",
    "\n",
    "def executeBruteForce(graph, costs, budget):\n",
    "    start = time.perf_counter()\n",
    "\n",
    "    try:\n",
    "        minSolution, minDuration, minBudget = bruteForce(graph, costs, budget)\n",
    "        print(\"Solution: \", minSolution)\n",
    "        print(\"Duration: \", minDuration)\n",
    "        print(\"Cost: \", minBudget)\n",
    "    except Exception as err:\n",
    "        print(err)\n",
    "\n",
    "    end = time.perf_counter()\n",
    "    executionTime = end - start\n",
    "\n",
    "    print(\"Time needed for execution: \" + str(executionTime))"
   ]
  },
  {
   "cell_type": "code",
   "execution_count": 13,
   "id": "e5721683",
   "metadata": {},
   "outputs": [],
   "source": [
    "import time\n",
    "\n",
    "def executeBruteForceBandB(graph, costs, budget):\n",
    "    start = time.perf_counter()\n",
    "\n",
    "    try:\n",
    "        minSolution, minDuration, minBudget = bruteForceBandB(graph, costs, budget)\n",
    "        print(\"Solution: \", minSolution)\n",
    "        print(\"Duration: \", minDuration)\n",
    "        print(\"Cost: \", minBudget)\n",
    "    except Exception as err:\n",
    "        print(err)\n",
    "\n",
    "    end = time.perf_counter()\n",
    "    executionTime = end - start\n",
    "\n",
    "    print(\"Time needed for execution: \" + str(executionTime))"
   ]
  },
  {
   "cell_type": "code",
   "execution_count": 14,
   "id": "0324a24f",
   "metadata": {},
   "outputs": [
    {
     "name": "stdout",
     "output_type": "stream",
     "text": [
      "Solution:  [0, 1, 0, 1, 0]\n",
      "Duration:  7\n",
      "Cost:  26\n",
      "Time needed for execution: 0.0007420889996865299\n",
      "\n",
      "Solution:  [0, 1, 0, 1, 0]\n",
      "Duration:  7\n",
      "Cost:  26\n",
      "Time needed for execution: 0.0007122930001060013\n"
     ]
    }
   ],
   "source": [
    "executeBruteForceBandB(nodes, costs, 30)\n",
    "print()\n",
    "executeBruteForce(nodes, costs, 30)"
   ]
  },
  {
   "cell_type": "code",
   "execution_count": 15,
   "id": "2551b00b",
   "metadata": {},
   "outputs": [
    {
     "name": "stdout",
     "output_type": "stream",
     "text": [
      "Brute force with slicing:\n",
      "Solution:  [0, 1, 0, 1, 0]\n",
      "Duration:  7\n",
      "Cost:  26\n",
      "Time needed for execution: 0.000687556999764638\n",
      "\n",
      "Brute force:\n",
      "Solution:  [0, 1, 0, 1, 0]\n",
      "Duration:  7\n",
      "Cost:  26\n",
      "Time needed for execution: 0.0007398540001304355\n"
     ]
    },
    {
     "data": {
      "image/png": "[encoded data removed]",
      "text/plain": [
       "<Figure size 640x480 with 1 Axes>"
      ]
     },
     "metadata": {},
     "output_type": "display_data"
    }
   ],
   "source": [
    "# graphName = \"graphs/graph7.txt\"\n",
    "# costsName = \"graphs/graph7costs.txt\"\n",
    "nodes, GxNodes, GxEdges = getImmediateAncestors(graphName)\n",
    "costs = getCost(costsName)\n",
    "budget = 30\n",
    "\n",
    "print(\"Brute force with slicing:\")\n",
    "executeBruteForceBandB(nodes, costs, budget)\n",
    "\n",
    "print()\n",
    "\n",
    "print(\"Brute force:\")\n",
    "executeBruteForce(nodes, costs, budget)\n",
    "\n",
    "drawGraph(GxNodes, GxEdges)\n"
   ]
  },
  {
   "cell_type": "code",
   "execution_count": 16,
   "id": "67a4a3f9",
   "metadata": {},
   "outputs": [
    {
     "name": "stdout",
     "output_type": "stream",
     "text": [
      "Solution:  [0, 1, 0, 1, 0]\n",
      "Duration:  7\n",
      "Cost:  26\n",
      "Time needed for enumeration algorithm execution: 0.00029892399834352545\n",
      "\n",
      "Solution:  [0, 0, 0, 0, 2, 0, 0, 0, 0, 0, 0, 0, 0, 0, 0, 0, 0, 0, 0, 0, 2, 0, 0, 0, 0, 0, 0, 0, 0, 0, 0, 0, 0, 0, 0, 0, 0, 0, 0, 0, 0, 0, 0, 0, 0, 0, 0]\n",
      "Duration:  19\n",
      "Cost:  9915\n",
      "Time needed for enumeration algorithm execution: 0.43443990999730886\n",
      "\n",
      "Solution:  [0, 0, 0, 0, 3, 0, 0, 2, 0, 0, 0, 0, 0, 0, 0, 0, 0, 0, 0, 0, 0, 0, 0, 0, 0, 0, 0, 0, 0, 0, 0, 0, 0, 0, 0, 0]\n",
      "Duration:  17\n",
      "Cost:  3595\n",
      "Time needed for enumeration algorithm execution: 0.11979649699787842\n",
      "\n",
      "Solution:  [0, 2, 0, 2, 0, 0, 0, 0, 0, 0, 0, 0, 0, 0, 0, 0, 0, 0, 0, 0, 0, 0, 0, 0, 0, 0, 0, 0, 0, 0, 0, 0, 0, 0, 0, 0, 0, 0, 0, 0, 0, 0]\n",
      "Duration:  13\n",
      "Cost:  3976\n",
      "Time needed for enumeration algorithm execution: 1.324055036999198\n",
      "\n",
      "Solution:  [0, 2, 0, 2, 0, 0, 0, 0, 0, 0, 0, 0, 0, 0, 0, 0, 0, 0, 0, 0, 0, 0, 0, 0, 0, 0, 0, 0, 0, 0, 0, 0, 0, 0, 0, 0, 0, 0, 0, 0, 0, 0, 0, 0, 0, 0, 0, 0, 0, 0, 0, 0, 0, 0, 0, 0, 0, 0, 0, 0, 0, 0, 0, 0, 0, 0, 0, 0, 0, 0, 0, 0, 0, 0, 0, 0, 0, 0, 0, 0, 0, 0, 0, 0, 0, 0, 0, 0, 0, 0]\n",
      "Duration:  21\n",
      "Cost:  8733\n",
      "Time needed for enumeration algorithm execution: 4770.592704599003\n",
      "\n",
      "Solution:  [0, 0, 0, 0, 0, 0, 0, 1, 0, 0, 1, 0, 0, 0, 0, 0, 0, 0, 0, 0, 0, 0, 0, 0, 0, 0, 0, 0, 0, 0, 0, 0, 0, 0, 0, 0, 0, 0, 0, 0, 0, 0, 0, 0, 0, 0, 0, 0, 0, 0, 0, 0, 0, 0]\n",
      "Duration:  16\n",
      "Cost:  5140\n",
      "Time needed for enumeration algorithm execution: 84.90902362999623\n",
      "\n",
      "Solution:  [0, 0, 1, 1, 0, 0, 0, 0, 0, 0, 0, 0, 0, 0, 0, 0, 0, 0, 0, 0, 0, 0, 0, 0, 0, 0, 0, 0, 0, 0, 0, 0, 0, 0, 0, 0, 0, 0, 0, 0, 0, 0, 0, 0, 0, 0, 0, 0, 0, 0, 0, 0, 0, 0, 0, 0, 0, 0, 0, 0, 0, 0, 0, 0, 0, 0, 0, 0, 0]\n",
      "Duration:  13\n",
      "Cost:  7100\n",
      "Time needed for enumeration algorithm execution: 1.4362467099999776\n",
      "\n",
      "Solution:  [0, 2, 2, 0, 0, 0, 0, 0, 0, 0, 0, 0, 0, 0, 0, 0, 0, 0, 0, 0, 0, 0, 0, 0, 0, 0, 0, 0, 0, 0, 0, 0, 0, 0, 0, 0, 0, 0, 0, 0, 0, 0, 0, 0, 0, 0, 0, 0, 0, 0, 0, 0, 0, 0, 0, 0, 0, 0, 0, 0, 0, 0, 0, 0, 0, 0, 0, 0]\n",
      "Duration:  16\n",
      "Cost:  7083\n",
      "Time needed for enumeration algorithm execution: 219.82913312099845\n",
      "\n",
      "Solution:  [0, 0, 0, 1, 2, 0, 0, 0, 0, 0, 0, 0, 0, 0, 0, 0, 0, 0, 0, 0, 0, 0, 0, 0, 0, 0, 0, 0, 0, 0, 0, 0, 0, 0, 0, 0, 0, 0]\n",
      "Duration:  12\n",
      "Cost:  3284\n",
      "Time needed for enumeration algorithm execution: 71.47270150500117\n",
      "\n"
     ]
    },
    {
     "data": {
      "image/png": "[encoded data removed]",
      "text/plain": [
       "<Figure size 640x480 with 1 Axes>"
      ]
     },
     "metadata": {},
     "output_type": "display_data"
    },
    {
     "name": "stdout",
     "output_type": "stream",
     "text": [
      "[7, 19, 17, 13, 21, 16, 13, 16, 12]\n"
     ]
    }
   ],
   "source": [
    "import time\n",
    "\n",
    "graphNames = [\"testGraph\", \"graph1\",\"graph2\", \"graph3\", \"graph4\", \"graph5\", \"graph6\", \"graph7\", \"graph10\"]\n",
    "graphBudget = [30, 10000, 3600, 4000, 8750, 5200, 7100, 7100, 3300]\n",
    "\n",
    "minimalDurations = []\n",
    "\n",
    "for i in range(len(graphNames)):\n",
    "    nodes, GxNodes, GxEdges = getImmediateAncestors(\"graphs/\" + graphNames[i] + \".txt\") \n",
    "    costs = getCost(\"graphs/\" + graphNames[i] + \"costs\" + \".txt\")\n",
    "\n",
    "    start = time.perf_counter()\n",
    "    solution, duration, projectCost = bruteForceBandB(nodes, costs, graphBudget[i])\n",
    "    print(\"Solution: \", solution)\n",
    "    print(\"Duration: \", duration)\n",
    "    print(\"Cost: \", projectCost)        \n",
    "    end = time.perf_counter()\n",
    "    executionTime = end - start\n",
    "    print(\"Time needed for enumeration algorithm execution: \" + str(executionTime))\n",
    "    minimalDurations.append(duration)\n",
    "\n",
    "    print()\n",
    "    \n",
    "plt.xlabel(\"Graph of execution\")\n",
    "plt.ylabel(\"Project duration\")\n",
    "plt.show()\n",
    "\n",
    "print(minimalDurations)"
   ]
  }
 ],
 "metadata": {
  "kernelspec": {
   "display_name": "Python 3 (ipykernel)",
   "language": "python",
   "name": "python3"
  },
  "language_info": {
   "codemirror_mode": {
    "name": "ipython",
    "version": 3
   },
   "file_extension": ".py",
   "mimetype": "text/x-python",
   "name": "python",
   "nbconvert_exporter": "python",
   "pygments_lexer": "ipython3",
   "version": "3.8.10"
  }
 },
 "nbformat": 4,
 "nbformat_minor": 5
}
