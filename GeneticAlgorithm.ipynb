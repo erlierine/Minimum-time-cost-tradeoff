{
 "cells": [
  {
   "cell_type": "markdown",
   "id": "2232c794",
   "metadata": {},
   "source": [
    "<h3>Genetic algorithm </h3>"
   ]
  },
  {
   "cell_type": "markdown",
   "id": "9caee0ac",
   "metadata": {},
   "source": [
    "First we read graph and costs for tasks"
   ]
  },
  {
   "cell_type": "code",
   "execution_count": 1,
   "id": "e8a2af28",
   "metadata": {},
   "outputs": [],
   "source": [
    "graphName = \"graphs/testGraph.txt\"\n",
    "costsName = \"graphs/testGraphCosts.txt\""
   ]
  },
  {
   "cell_type": "code",
   "execution_count": 2,
   "id": "2de40178",
   "metadata": {},
   "outputs": [],
   "source": [
    "from collections import defaultdict\n",
    "\n",
    "# Nodes in DAG that are represented as (node, [list of ancestor])\n",
    "def getImmediateAncestors(filename):\n",
    "    with open(filename, 'r') as file:\n",
    "        nodes = defaultdict(list)\n",
    "        \n",
    "        # Dummy nodes source and super sink that are added to represent start and end of project\n",
    "        sourceNodes = set()\n",
    "        superSinkNodes = set()\n",
    "        removeFromeSource = set()\n",
    "        removeFromSuperSink = set()\n",
    "        \n",
    "        # Necessary representation for networkx to draw graph\n",
    "        GxNodes = set()\n",
    "        GxEdges = []\n",
    "            \n",
    "        for line in file:\n",
    "            # from represented direceted edges as (node ancestor) we get all ancestors\n",
    "            node, ancestor = line.split()\n",
    "            \n",
    "            GxEdges.append((node, ancestor))\n",
    "            \n",
    "            nodes[node].append(ancestor)\n",
    "            sourceNodes.add(node)\n",
    "            superSinkNodes.add(ancestor)\n",
    "            removeFromeSource.add(ancestor)\n",
    "            removeFromSuperSink.add(node)\n",
    "        \n",
    "        for node in removeFromeSource:\n",
    "            sourceNodes.discard(node)\n",
    "        for node in removeFromSuperSink:\n",
    "            superSinkNodes.discard(node)\n",
    "            \n",
    "        nodes['s'] = list(sourceNodes)\n",
    "        nodes['ss'] = [None]\n",
    "        for node in superSinkNodes:\n",
    "            nodes[node].append('ss')\n",
    "            GxEdges.append((node, 'ss'))\n",
    "        \n",
    "        for s in sourceNodes:\n",
    "            GxEdges.append(('s', s))\n",
    "        GxNodes = list(sourceNodes)\n",
    "        \n",
    "#         for node in nodes:\n",
    "#             print(node, nodes[node])\n",
    "\n",
    "        # return values are directed acyclic graph represened as dictionary with nodes and their ancestors\n",
    "        # and GxNodes, GxEdges which is needed representation of graph for drawing\n",
    "        return nodes, GxNodes, GxEdges"
   ]
  },
  {
   "cell_type": "code",
   "execution_count": 3,
   "id": "e7c9704d",
   "metadata": {},
   "outputs": [],
   "source": [
    "nodes, GxNodes, GxEdges = getImmediateAncestors(graphName)"
   ]
  },
  {
   "cell_type": "code",
   "execution_count": 4,
   "id": "5ea10690",
   "metadata": {},
   "outputs": [],
   "source": [
    "def getCost(filename):\n",
    "    \n",
    "    with open(filename, 'r') as file:\n",
    "        nodes = defaultdict(list)\n",
    "        currentNode = -1\n",
    "        \n",
    "        for line in file:\n",
    "            values = line.split()\n",
    "            if values[0] == 'n':\n",
    "                currentNode = values[1]\n",
    "                nodes[currentNode] = []\n",
    "            for index in range(2, len(values)):\n",
    "                duration, cost = values[index].split(',')\n",
    "                duration = int(duration[1:])\n",
    "                cost = int(cost[:-1])\n",
    "                nodes[currentNode].append((duration, cost))\n",
    "\n",
    "        return nodes"
   ]
  },
  {
   "cell_type": "code",
   "execution_count": 5,
   "id": "f25ba217",
   "metadata": {},
   "outputs": [
    {
     "data": {
      "text/plain": [
       "defaultdict(list,\n",
       "            {'1': [(2, 20), (5, 8)],\n",
       "             '2': [(3, 8)],\n",
       "             '3': [(1, 20), (2, 10), (4, 5)],\n",
       "             's': [(0, 0)],\n",
       "             'ss': [(0, 0)]})"
      ]
     },
     "execution_count": 5,
     "metadata": {},
     "output_type": "execute_result"
    }
   ],
   "source": [
    "costs = getCost(costsName)\n",
    "costs"
   ]
  },
  {
   "cell_type": "code",
   "execution_count": 6,
   "id": "803495bd",
   "metadata": {},
   "outputs": [],
   "source": [
    "import networkx as nx\n",
    "import matplotlib.pyplot as plt\n",
    "import matplotlib.image as mpimg\n",
    "\n",
    "def drawGraph(GxNodes, GxEdges):\n",
    "    # init empty graph\n",
    "    Gx = nx.Graph()\n",
    "    # add starting node\n",
    "    Gx.add_nodes_from('s')\n",
    "    # add list of remaining nodes\n",
    "    Gx.add_nodes_from(GxNodes)\n",
    "    # add edges\n",
    "    Gx.add_edges_from(GxEdges)\n",
    "    nx.draw_networkx(Gx,node_size=900, arrows=True, arrowstyle='-|>')"
   ]
  },
  {
   "cell_type": "code",
   "execution_count": 7,
   "id": "f2dfb7b1",
   "metadata": {},
   "outputs": [
    {
     "data": {
      "image/png": "[encoded data removed]",
      "text/plain": [
       "<Figure size 640x480 with 1 Axes>"
      ]
     },
     "metadata": {},
     "output_type": "display_data"
    }
   ],
   "source": [
    "drawGraph(GxNodes, GxEdges)"
   ]
  },
  {
   "cell_type": "markdown",
   "id": "3654b50c",
   "metadata": {},
   "source": [
    "First we set needed parameters for genetic algorithm and make one Idividual with its hromosome represented as steps"
   ]
  },
  {
   "cell_type": "code",
   "execution_count": 8,
   "id": "cab6a62b",
   "metadata": {},
   "outputs": [],
   "source": [
    "TOURNAMENT_SIZE = 10\n",
    "POPULATION_SIZE = 100\n",
    "MUTATION_RATE = 0.3\n",
    "NUM_GENERATIONS = 100\n",
    "ELITISIM_SIZE = 40\n",
    "BUDGET = 40"
   ]
  },
  {
   "cell_type": "code",
   "execution_count": 9,
   "id": "54c146bc",
   "metadata": {},
   "outputs": [],
   "source": [
    "import random\n",
    "\n",
    "class Individual:\n",
    "    \n",
    "    def __init__(self, graph, costs):\n",
    "        self.graph = graph\n",
    "        self.costs = costs\n",
    "        self.steps = self.initSteps()\n",
    "        self.fitness = self.calcFitness()\n",
    "    \n",
    "    def isFeasible(self):\n",
    "        return self.budgetValue() < budget\n",
    "        \n",
    "    def initSteps(self):\n",
    "        solution = [0 for _ in range(len(costs))]\n",
    "\n",
    "        for node in self.costs:\n",
    "            if node == 's' or node == 'ss':\n",
    "                continue\n",
    "            solution[int(node)] = random.randrange(len(costs[node]))\n",
    "# ne moze da proveri jer jos ne zna kako da se napravi\n",
    "#         if not self.isFeasible():\n",
    "#             return self.initSteps()\n",
    "#         else: \n",
    "            return solution\n",
    "    \n",
    "    def budgetValue(self):\n",
    "        cost = 0\n",
    "        for index in range(1, len(self.steps)-1):\n",
    "            cost += self.costs[str(index)][self.steps[index]][1]\n",
    "        return cost\n",
    "        \n",
    "    def __lt__(self,other):\n",
    "#         print(self.fitness, other.fitness, self.fitness < other.fitness)\n",
    "        return self.fitness < other.fitness\n",
    "    \n",
    "    def calcFitness(self):\n",
    "        return 1 / self.solutionValue(self.graph['s'], 0)\n",
    "    \n",
    "    def solutionValue(self, nodes, earliestStartTime):\n",
    "        if nodes == []:\n",
    "            return earliestStartTime\n",
    "        durations = set()\n",
    "        newNodes = set()\n",
    "    #     print(nodes)\n",
    "        for node in nodes:\n",
    "    #         print(node)\n",
    "            if node == 'ss':\n",
    "                durations.add(0)\n",
    "                continue\n",
    "            step = self.steps[int(node)]\n",
    "            durations.add(costs[node][step][0])\n",
    "            for ancestor in self.graph[node]:\n",
    "                newNodes.add(ancestor)\n",
    "        earliestStartTime += max(durations)\n",
    "        return self.solutionValue(list(newNodes), earliestStartTime)"
   ]
  },
  {
   "cell_type": "code",
   "execution_count": 10,
   "id": "f57d924a",
   "metadata": {},
   "outputs": [],
   "source": [
    "def selection(population):\n",
    "    bestFitness = float('-inf')\n",
    "    index = -1\n",
    "    for i in range(TOURNAMENT_SIZE):\n",
    "        randomIndividual = random.randrange(len(population))\n",
    "        if population[randomIndividual].fitness < bestFitness:\n",
    "            bestFitness = population[randomIndividual].fitness\n",
    "            index = randomIndividual\n",
    "    return index "
   ]
  },
  {
   "cell_type": "code",
   "execution_count": 11,
   "id": "731e4fa0",
   "metadata": {},
   "outputs": [],
   "source": [
    "def crossover(parent1, parent2, child1, child2):\n",
    "    breakpoint = random.randrange(len(parent1.steps))\n",
    "    \n",
    "    child1.steps[:breakpoint] = parent1.steps[:breakpoint]\n",
    "    child2.steps[:breakpoint] = parent2.steps[:breakpoint]\n",
    "    \n",
    "    child1.steps[breakpoint:] = parent2.steps[breakpoint:]\n",
    "    child2.steps[breakpoint:] = parent1.steps[breakpoint:]\n",
    "    \n",
    "#     child1.correctNonFeasible()\n",
    "#     child2.correctNonFeasible()"
   ]
  },
  {
   "cell_type": "code",
   "execution_count": 12,
   "id": "43704d51",
   "metadata": {},
   "outputs": [],
   "source": [
    "def mutation(individual, costs):\n",
    "    MUTATION_PROB = 0.05\n",
    "    for i in range(1, len(individual.steps)-1):\n",
    "        if random.random() < MUTATION_RATE:\n",
    "            step = random.randrange(len(costs[str(i)]))\n",
    "            individual.steps[i] = step\n",
    "#     individual.correctNonFeasible()"
   ]
  },
  {
   "cell_type": "code",
   "execution_count": 15,
   "id": "077c0a20",
   "metadata": {},
   "outputs": [
    {
     "name": "stdout",
     "output_type": "stream",
     "text": [
      "solution: [0, 0, 0, 0, 0], fitness: 0.25, cost: 4.0, budget:48\n"
     ]
    }
   ],
   "source": [
    "population = [Individual(nodes, costs) for _ in range(POPULATION_SIZE)]\n",
    "newPopulation = [Individual(nodes, costs) for _ in range(POPULATION_SIZE)]\n",
    "\n",
    "for i in range(NUM_GENERATIONS):\n",
    "    population = sorted(population, reverse=True)\n",
    "    newPopulation[:ELITISIM_SIZE] = population[:ELITISIM_SIZE]\n",
    "    for j in range(ELITISIM_SIZE, POPULATION_SIZE, 2):\n",
    "        parent1Index = selection(population)\n",
    "        parent2Index = selection(population)\n",
    "        \n",
    "        crossover(population[parent1Index], population[parent2Index], newPopulation[j], newPopulation[j+1])\n",
    "        \n",
    "        mutation(newPopulation[j], costs)\n",
    "        mutation(newPopulation[j+1], costs)\n",
    "        \n",
    "        newPopulation[j].fitness = newPopulation[j].calcFitness()\n",
    "        newPopulation[j+1].fitness = newPopulation[j+1].calcFitness()\n",
    "        \n",
    "    population = newPopulation\n",
    "\n",
    "\n",
    "bestIndividual = max(population)\n",
    "print(f'solution: {bestIndividual.steps}, fitness: {bestIndividual.fitness}, cost: {1 / bestIndividual.fitness}, budget:{bestIndividual.budgetValue()}')"
   ]
  }
 ],
 "metadata": {
  "kernelspec": {
   "display_name": "Python 3 (ipykernel)",
   "language": "python",
   "name": "python3"
  },
  "language_info": {
   "codemirror_mode": {
    "name": "ipython",
    "version": 3
   },
   "file_extension": ".py",
   "mimetype": "text/x-python",
   "name": "python",
   "nbconvert_exporter": "python",
   "pygments_lexer": "ipython3",
   "version": "3.8.10"
  }
 },
 "nbformat": 4,
 "nbformat_minor": 5
}
